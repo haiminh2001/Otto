{
 "cells": [
  {
   "cell_type": "code",
   "execution_count": 1,
   "metadata": {},
   "outputs": [],
   "source": [
    "from xgboost import plot_tree\n",
    "import xgboost as xgb"
   ]
  },
  {
   "cell_type": "code",
   "execution_count": 2,
   "metadata": {},
   "outputs": [],
   "source": [
    "MODEL_PATH = '/home/anhphantq/xgboost'\n",
    "TEST_MODEL_PATH = '/home/anhphantq/xgboost_test'\n",
    "MODEL_VERSION = '6'\n",
    "TEST_MODEL_VERSION = '5'\n",
    "\n"
   ]
  },
  {
   "cell_type": "code",
   "execution_count": 17,
   "metadata": {},
   "outputs": [],
   "source": [
    "import xgboost as xgb\n",
    "click_models = []\n",
    "for fold in range(3):\n",
    "  click_model = xgb.Booster()\n",
    "  click_model.load_model(MODEL_PATH + '/clicks_only_' + MODEL_VERSION + f'/XGB_fold{fold}.xgb')\n",
    "  click_models.append(click_model)\n",
    "\n",
    "cart_models = []\n",
    "for fold in range(3):\n",
    "  cart_model = xgb.Booster()\n",
    "  cart_model.load_model(MODEL_PATH + '/carts_only_'+ MODEL_VERSION + f'/XGB_fold{fold}.xgb')\n",
    "  cart_models.append(cart_model)\n",
    "\n",
    "order_models = []\n",
    "for fold in range(3):\n",
    "  order_model = xgb.Booster()\n",
    "  order_model.load_model(MODEL_PATH + '/orders_only_'+ MODEL_VERSION + f'/XGB_fold{fold}.xgb')\n",
    "  order_models.append(order_model)"
   ]
  },
  {
   "cell_type": "code",
   "execution_count": 14,
   "metadata": {},
   "outputs": [],
   "source": [
    "from xgb_utils import columns"
   ]
  },
  {
   "cell_type": "code",
   "execution_count": 20,
   "metadata": {},
   "outputs": [
    {
     "data": {
      "text/plain": [
       "<Figure size 10000x1000 with 0 Axes>"
      ]
     },
     "metadata": {},
     "output_type": "display_data"
    },
    {
     "data": {
      "image/png": "[encoded data removed]",
      "text/plain": [
       "<Figure size 640x480 with 1 Axes>"
      ]
     },
     "metadata": {},
     "output_type": "display_data"
    }
   ],
   "source": [
    "# click_model.feature_names = columns\n",
    "import matplotlib.pyplot as plt\n",
    "plt.figure(figsize= (100,10))\n",
    "plot_tree(click_model, fontsize = 10, num_trees= 5)\n",
    "plt.savefig('tree_high_dpi', dpi=1200)"
   ]
  }
 ],
 "metadata": {
  "kernelspec": {
   "display_name": "Python 3",
   "language": "python",
   "name": "python3"
  },
  "language_info": {
   "codemirror_mode": {
    "name": "ipython",
    "version": 3
   },
   "file_extension": ".py",
   "mimetype": "text/x-python",
   "name": "python",
   "nbconvert_exporter": "python",
   "pygments_lexer": "ipython3",
   "version": "3.8.10"
  },
  "orig_nbformat": 4,
  "vscode": {
   "interpreter": {
    "hash": "916dbcbb3f70747c44a77c7bcd40155683ae19c65e1c03b4aa3499c5328201f1"
   }
  }
 },
 "nbformat": 4,
 "nbformat_minor": 2
}
