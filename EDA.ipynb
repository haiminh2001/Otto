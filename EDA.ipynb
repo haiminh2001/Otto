{
 "cells": [
  {
   "cell_type": "code",
   "execution_count": 6,
   "metadata": {},
   "outputs": [],
   "source": [
    "MODEL_PATH = '/home/anhphantq/meowmeow'\n",
    "\n",
    "MODEL_VERSION = '11'\n",
    "\n"
   ]
  },
  {
   "cell_type": "code",
   "execution_count": 7,
   "metadata": {},
   "outputs": [],
   "source": [
    "from catboost import CatBoostRanker\n",
    "click_models = []\n",
    "NUM_SPLITS = 5\n",
    "NUM_SAMPLES = 1\n",
    "for fold in range(NUM_SPLITS):\n",
    "  for i in range(NUM_SAMPLES):\n",
    "    click_model = CatBoostRanker()\n",
    "    click_model.load_model(MODEL_PATH + '/clicks_only_' + MODEL_VERSION + f'/meowmewo_fold{fold}_sample{i}')\n",
    "\n",
    "    assert click_model.is_fitted\n",
    "    click_models.append(click_model)\n",
    "\n",
    "cart_models = []\n",
    "for fold in range(NUM_SPLITS):\n",
    "  for i in range(NUM_SAMPLES):\n",
    "    cart_model = CatBoostRanker()\n",
    "    cart_model.load_model(MODEL_PATH + '/carts_only_'+ MODEL_VERSION + f'/meowmewo_fold{fold}_sample{i}')\n",
    "    assert cart_model.is_fitted\n",
    "    cart_models.append(cart_model)\n",
    "\n",
    "order_models = []\n",
    "for fold in range(NUM_SPLITS):\n",
    "  for i in range(NUM_SAMPLES):\n",
    "    order_model = CatBoostRanker()\n",
    "    order_model.load_model(MODEL_PATH + '/orders_only_'+ MODEL_VERSION + f'/meowmewo_fold{fold}_sample{i}')\n",
    "    assert order_model.is_fitted\n",
    "    order_models.append(order_model)"
   ]
  },
  {
   "cell_type": "code",
   "execution_count": 4,
   "metadata": {},
   "outputs": [],
   "source": [
    "import pandas as pd \n",
    "from catboost import Pool\n",
    "pool1 = Pool(pd.read_parquet('/home/anhphantq/vdb/cache_train/data_0.parquet').iloc[:,2:])"
   ]
  },
  {
   "cell_type": "code",
   "execution_count": 9,
   "metadata": {},
   "outputs": [],
   "source": [
    "from meow_utils import plot_importance"
   ]
  },
  {
   "cell_type": "code",
   "execution_count": null,
   "metadata": {},
   "outputs": [],
   "source": []
  }
 ],
 "metadata": {
  "kernelspec": {
   "display_name": "Python 3",
   "language": "python",
   "name": "python3"
  },
  "language_info": {
   "codemirror_mode": {
    "name": "ipython",
    "version": 3
   },
   "file_extension": ".py",
   "mimetype": "text/x-python",
   "name": "python",
   "nbconvert_exporter": "python",
   "pygments_lexer": "ipython3",
   "version": "3.8.10"
  },
  "orig_nbformat": 4,
  "vscode": {
   "interpreter": {
    "hash": "916dbcbb3f70747c44a77c7bcd40155683ae19c65e1c03b4aa3499c5328201f1"
   }
  }
 },
 "nbformat": 4,
 "nbformat_minor": 2
}
