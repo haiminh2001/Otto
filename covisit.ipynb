{
 "cells": [
  {
   "cell_type": "code",
   "execution_count": 1,
   "metadata": {},
   "outputs": [],
   "source": [
    "type_weight = {0:0.5, 1:9, 2:0.5}\n",
    "type_weight_multipliers = type_weight\n",
    "\n",
    "top = 15\n",
    "\n",
    "VER = 1\n",
    "DIR = f'/home/anhphantq/vdb/covisit_ver{VER}'"
   ]
  },
  {
   "cell_type": "code",
   "execution_count": 2,
   "metadata": {},
   "outputs": [
    {
     "name": "stdout",
     "output_type": "stream",
     "text": [
      "[Errno 17] File exists: '/home/anhphantq/vdb/covisit_ver1'\n"
     ]
    }
   ],
   "source": [
    "import os \n",
    "\n",
    "try:\n",
    "    os.mkdir(DIR)\n",
    "    \n",
    "    os.mkdir(DIR + '/splitted')\n",
    "    os.mkdir(DIR + '/lb')\n",
    "except OSError as error:\n",
    "    print(error)    "
   ]
  },
  {
   "cell_type": "code",
   "execution_count": 3,
   "metadata": {},
   "outputs": [
    {
     "data": {
      "text/plain": [
       "(1661119199, 1659304800)"
      ]
     },
     "execution_count": 3,
     "metadata": {},
     "output_type": "execute_result"
    }
   ],
   "source": [
    "\n",
    "import pandas as pd\n",
    "\n",
    "train_df = pd.read_parquet('/home/anhphantq/otto/splitted_data/train.parquet')\n",
    "test_df = pd.read_parquet('/home/anhphantq/otto/splitted_data/test.parquet')\n",
    "all_df = pd.concat((train_df, test_df))\n",
    "MAX_TS = train_df.ts.max()\n",
    "MIN_TS = train_df.ts.min()\n",
    "MAX_TS, MIN_TS"
   ]
  },
  {
   "cell_type": "code",
   "execution_count": null,
   "metadata": {},
   "outputs": [],
   "source": [
    "import pandas as pd\n",
    "train_df = pd.read_parquet('/home/anhphantq/otto/data/train.parquet')\n",
    "\n",
    "#remove 1 week from train df LB to retain distribution \n",
    "import numpy as np\n",
    "min_ts = train_df.ts.values.min()\n",
    "old_index = np.argwhere(train_df.ts.values - min_ts < 3600 * 24 * 7)\n",
    "train_df = train_df.drop(old_index.flatten())\n",
    "test_df = pd.read_parquet('/home/anhphantq/otto/data/test.parquet')\n",
    "all_df = pd.concat((train_df, test_df))\n",
    "MAX_TS = train_df.ts.max()\n",
    "MIN_TS = train_df.ts.min()\n",
    "MAX_TS, MIN_TS"
   ]
  },
  {
   "attachments": {},
   "cell_type": "markdown",
   "metadata": {},
   "source": [
    "Create covisit"
   ]
  },
  {
   "cell_type": "code",
   "execution_count": 4,
   "metadata": {},
   "outputs": [],
   "source": [
    "import numpy as np\n",
    "def create_covisit(args): \n",
    "    df, result, id = args    \n",
    "    df = df.sort_values(['session','ts'],ascending=[True,False])\n",
    "    df['user_num_interact'] = df.groupby('session')['ts'].transform('count')\n",
    "    df['user_fts'] = df.groupby('session')['ts'].transform('min')\n",
    "    df['user_lts'] = df.groupby('session')['ts'].transform('max')\n",
    "    \n",
    "    df['user_wgt'] = 1 / (1 + np.log((df.user_lts - df.user_fts) + 1)) / \\\n",
    "                    (1 + np.log(df.user_num_interact + 1))\n",
    "                    \n",
    "    df['item_wgt'] = df.groupby('aid')['ts'].transform('count')\n",
    "    df['item_wgt'] = 1 / (1 + np.log(df.item_wgt + 1))\n",
    "        \n",
    "\n",
    "    # CREATE PAIRS\n",
    "    df = df.merge(df,on='session')\n",
    "    df = df.loc[ ((df.ts_x - df.ts_y).abs()< 24 * 60 * 60) & (df.aid_x != df.aid_y) ]\n",
    "    \n",
    "    \n",
    "\n",
    "\n",
    "    # ASSIGN WEIGHTS\n",
    "    \n",
    "    # df = df[['session', 'aid_x', 'aid_y','type_y', 'user_wgt_y', 'item_wgt_y']].drop_duplicates(['session', 'aid_x', 'aid_y', 'type_y'])\n",
    "    \n",
    "    df['wgt'] = df.type_y.map(type_weight) * df.user_wgt_y * df.item_wgt_y \n",
    "    df = df[['aid_x','aid_y','wgt']]\n",
    "    df.wgt = df.wgt.astype('float32')\n",
    "    \n",
    "    \n",
    "    df = df.groupby(['aid_x','aid_y']).wgt.sum().reset_index().sort_values(['aid_x','wgt'],ascending=[True,False]).reset_index(drop = True)\n",
    "    df['n'] = df.groupby('aid_x').aid_y.cumcount()\n",
    "    #SAVE TOP \n",
    "    df = df.loc[df.n < top].drop('n', axis = 1)\n",
    "    result[id] = df\n",
    "    return id"
   ]
  },
  {
   "cell_type": "code",
   "execution_count": 5,
   "metadata": {},
   "outputs": [
    {
     "data": {
      "text/plain": [
       "6400"
      ]
     },
     "execution_count": 5,
     "metadata": {},
     "output_type": "execute_result"
    }
   ],
   "source": [
    "from tqdm import tqdm\n",
    "import numpy as np\n",
    "N = 100\n",
    "step = all_df.shape[0] // (64 * N)\n",
    "start = [i * step for i in range(64 * N)]\n",
    "end = [i + step for i in start]\n",
    "end[-1] = all_df.shape[0] \n",
    "\n",
    "batches = [all_df.iloc[start[i]: end[i]].copy() for i in range(len(start))]\n",
    "del all_df, train_df, test_df\n",
    "len(batches)"
   ]
  },
  {
   "cell_type": "code",
   "execution_count": 8,
   "metadata": {},
   "outputs": [
    {
     "data": {
      "application/vnd.jupyter.widget-view+json": {
       "model_id": "592cdb2014e24f4ab23abc0f25fa8f31",
       "version_major": 2,
       "version_minor": 0
      },
      "text/plain": [
       "CPU%:   0%|          | 0/100 [00:00<?, ?it/s]"
      ]
     },
     "metadata": {},
     "output_type": "display_data"
    },
    {
     "data": {
      "application/vnd.jupyter.widget-view+json": {
       "model_id": "2a1050cf877346d8bbc7c9dcea230640",
       "version_major": 2,
       "version_minor": 0
      },
      "text/plain": [
       "RAM (GB):   0%|          | 0/125 [00:00<?, ?it/s]"
      ]
     },
     "metadata": {},
     "output_type": "display_data"
    },
    {
     "data": {
      "application/vnd.jupyter.widget-view+json": {
       "model_id": "3ef218e61f8d442ca1f7ef65f5a0cf02",
       "version_major": 2,
       "version_minor": 0
      },
      "text/plain": [
       "  0%|          | 0/6400 [00:00<?, ?it/s]"
      ]
     },
     "metadata": {},
     "output_type": "display_data"
    },
    {
     "name": "stdout",
     "output_type": "stream",
     "text": [
      "CPU times: user 51.3 s, sys: 19.4 s, total: 1min 10s\n",
      "Wall time: 4min 56s\n"
     ]
    }
   ],
   "source": [
    "%%time\n",
    "from tqdm.notebook import tqdm\n",
    "import psutil\n",
    "from multiprocessing import Manager\n",
    "import multiprocessing\n",
    "manager = Manager()\n",
    "\n",
    "result = manager.dict()\n",
    "#splitted\n",
    "\n",
    "\n",
    "with tqdm(total=100, desc='CPU%', position=1, leave = False) as cpubar, tqdm(total= int (psutil.virtual_memory().total  / 1024  / 1024 / 1024), desc='RAM (GB)', position=0, leave = False) as rambar:\n",
    "\n",
    "  with multiprocessing.Pool(64) as pool:\n",
    "    for rs in tqdm(pool.imap_unordered(create_covisit, zip(batches, [result for _ in range(len(batches))], [i for i in range(len(batches))]), chunksize = 1), total = len(batches)):\n",
    "      \n",
    "      rambar.n= int(psutil.virtual_memory().used / 1024  / 1024 / 1024)\n",
    "\n",
    "      cpubar.n=psutil.cpu_percent()\n",
    "      rambar.refresh()\n",
    "      cpubar.refresh()\n",
    "      \n",
    "  \n",
    "  "
   ]
  },
  {
   "cell_type": "code",
   "execution_count": 12,
   "metadata": {},
   "outputs": [],
   "source": [
    "pd.concat(result.values()).to_parquet(DIR + '/splitted/covisit.pqt')"
   ]
  },
  {
   "cell_type": "code",
   "execution_count": null,
   "metadata": {},
   "outputs": [],
   "source": [
    "pd.concat(result.values()).to_parquet(DIR + '/lb/covisit.pqt')"
   ]
  }
 ],
 "metadata": {
  "kernelspec": {
   "display_name": "Python 3",
   "language": "python",
   "name": "python3"
  },
  "language_info": {
   "codemirror_mode": {
    "name": "ipython",
    "version": 3
   },
   "file_extension": ".py",
   "mimetype": "text/x-python",
   "name": "python",
   "nbconvert_exporter": "python",
   "pygments_lexer": "ipython3",
   "version": "3.8.10 (default, Nov 14 2022, 12:59:47) \n[GCC 9.4.0]"
  },
  "orig_nbformat": 4,
  "vscode": {
   "interpreter": {
    "hash": "916dbcbb3f70747c44a77c7bcd40155683ae19c65e1c03b4aa3499c5328201f1"
   }
  }
 },
 "nbformat": 4,
 "nbformat_minor": 2
}
