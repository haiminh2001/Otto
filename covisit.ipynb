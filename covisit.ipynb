{
 "cells": [
  {
   "cell_type": "code",
   "execution_count": 1,
   "metadata": {},
   "outputs": [],
   "source": [
    "# 0:clicks 1:carts 2:orders\n",
    "type_weight = {0:1, 1:10, 2:3}\n",
    "type_weight_multipliers = type_weight\n",
    "\n",
    "top = 100\n",
    "\n",
    "VER = 1\n",
    "DIR = f'/home/anhphantq/vdb/covisit_ver{VER}'"
   ]
  },
  {
   "cell_type": "code",
   "execution_count": 2,
   "metadata": {},
   "outputs": [
    {
     "name": "stdout",
     "output_type": "stream",
     "text": [
      "[Errno 17] File exists: '/home/anhphantq/vdb/covisit_ver1'\n"
     ]
    }
   ],
   "source": [
    "import os \n",
    "\n",
    "try:\n",
    "    os.mkdir(DIR)\n",
    "    \n",
    "    os.mkdir(DIR + '/splitted')\n",
    "    os.mkdir(DIR + '/lb')\n",
    "except OSError as error:\n",
    "    print(error)    "
   ]
  },
  {
   "cell_type": "code",
   "execution_count": 3,
   "metadata": {},
   "outputs": [
    {
     "data": {
      "text/plain": [
       "(1661119199, 1659304800)"
      ]
     },
     "execution_count": 3,
     "metadata": {},
     "output_type": "execute_result"
    }
   ],
   "source": [
    "import pandas as pd\n",
    "\n",
    "# COMPUTE IN PARTS FOR MEMORY MANGEMENT\n",
    "\n",
    "train_df = pd.read_parquet('/home/anhphantq/otto/splitted_data/train.parquet')\n",
    "test_df = pd.read_parquet('/home/anhphantq/otto/splitted_data/test.parquet')\n",
    "all_df = pd.concat((train_df, test_df))\n",
    "MAX_TS = train_df.ts.max()\n",
    "MIN_TS = train_df.ts.min()\n",
    "MAX_TS, MIN_TS"
   ]
  },
  {
   "cell_type": "code",
   "execution_count": 3,
   "metadata": {},
   "outputs": [
    {
     "data": {
      "text/plain": [
       "(1661723999, 1659909600)"
      ]
     },
     "execution_count": 3,
     "metadata": {},
     "output_type": "execute_result"
    }
   ],
   "source": [
    "import pandas as pd\n",
    "train_df = pd.read_parquet('/home/anhphantq/otto/data/train.parquet')\n",
    "\n",
    "#remove 1 week from train df LB to retain distribution \n",
    "import numpy as np\n",
    "min_ts = train_df.ts.values.min()\n",
    "old_index = np.argwhere(train_df.ts.values - min_ts < 3600 * 24 * 7)\n",
    "train_df = train_df.drop(old_index.flatten())\n",
    "test_df = pd.read_parquet('/home/anhphantq/otto/data/test.parquet')\n",
    "all_df = pd.concat((train_df, test_df))\n",
    "MAX_TS = train_df.ts.max()\n",
    "MIN_TS = train_df.ts.min()\n",
    "MAX_TS, MIN_TS"
   ]
  },
  {
   "cell_type": "code",
   "execution_count": 4,
   "metadata": {},
   "outputs": [],
   "source": [
    "def create_covisit(df):    \n",
    "    df = df.sort_values(['session','ts'],ascending=[True,False])\n",
    "\n",
    "    # USE TAIL OF SESSION\n",
    "    df = df.reset_index(drop=True)\n",
    "    df['n'] = df.groupby('session').cumcount()\n",
    "    df = df.loc[df.n<30].drop('n',axis=1)\n",
    "\n",
    "    # CREATE PAIRS\n",
    "    df = df.merge(df,on='session')\n",
    "    df = df.loc[ ((df.ts_x - df.ts_y).abs()< 1 * 60 * 60) & (df.aid_x != df.aid_y) ]\n",
    "\n",
    "\n",
    "    # ASSIGN WEIGHTS\n",
    "    df = df[['session', 'aid_x', 'aid_y','type_y']].drop_duplicates(['session', 'aid_x', 'aid_y', 'type_y'])\n",
    "    df['wgt'] = df.type_y.map(type_weight)\n",
    "    df = df[['aid_x','aid_y','wgt']]\n",
    "    df.wgt = df.wgt.astype('float32')\n",
    "    \n",
    "    \n",
    "    df = df.groupby(['aid_x','aid_y']).wgt.sum().reset_index().sort_values(['aid_x','wgt'],ascending=[True,False]).reset_index(drop = True)\n",
    "    df['n'] = df.groupby('aid_x').aid_y.cumcount()\n",
    "    #SAVE TOP \n",
    "    df = df.loc[df.n < top].drop('n', axis = 1)\n",
    "    return df\n"
   ]
  },
  {
   "cell_type": "code",
   "execution_count": 5,
   "metadata": {},
   "outputs": [],
   "source": [
    "from tqdm import tqdm\n",
    "import numpy as np\n",
    "\n",
    "step = all_df.shape[0] // 64\n",
    "start = [i * step for i in range(64)]\n",
    "end = [i + step for i in start]\n",
    "end[-1] = all_df.shape[0] \n",
    "\n",
    "batches = [all_df.iloc[start[i]: end[i]].copy() for i in range(len(start))]\n",
    "\n",
    "\n"
   ]
  },
  {
   "cell_type": "code",
   "execution_count": 6,
   "metadata": {},
   "outputs": [
    {
     "name": "stdout",
     "output_type": "stream",
     "text": [
      "CPU times: user 41.8 s, sys: 41.3 s, total: 1min 23s\n",
      "Wall time: 1min 36s\n"
     ]
    }
   ],
   "source": [
    "%%time\n",
    "#splitted\n",
    "\n",
    "import multiprocessing\n",
    "with multiprocessing.Pool(64) as pool:\n",
    "  pd.concat(pool.map(create_covisit, batches, chunksize = 1)).to_parquet(DIR + f'/splitted/covisit')\n",
    "  \n",
    "  \n"
   ]
  },
  {
   "cell_type": "code",
   "execution_count": 6,
   "metadata": {},
   "outputs": [
    {
     "name": "stdout",
     "output_type": "stream",
     "text": [
      "create top clicks\n"
     ]
    },
    {
     "name": "stderr",
     "output_type": "stream",
     "text": [
      "100%|██████████| 64/64 [01:28<00:00,  1.38s/it]\n"
     ]
    },
    {
     "name": "stdout",
     "output_type": "stream",
     "text": [
      "create top buy2buy\n"
     ]
    },
    {
     "name": "stderr",
     "output_type": "stream",
     "text": [
      "100%|██████████| 64/64 [00:15<00:00,  4.07it/s]\n"
     ]
    },
    {
     "name": "stdout",
     "output_type": "stream",
     "text": [
      "create top clicks\n"
     ]
    },
    {
     "name": "stderr",
     "output_type": "stream",
     "text": [
      "100%|██████████| 64/64 [00:15<00:00,  4.04it/s]\n"
     ]
    }
   ],
   "source": [
    "%%time\n",
    "#splitted\n",
    "\n",
    "import multiprocessing\n",
    "with multiprocessing.Pool(64) as pool:\n",
    "  pd.concat(pool.map(create_covisit, batches, chunksize = 1)).to_parquet(DIR + f'/lb/covisit')\n",
    "  \n",
    "  \n"
   ]
  },
  {
   "attachments": {},
   "cell_type": "markdown",
   "metadata": {},
   "source": [
    "RECENT covisit"
   ]
  },
  {
   "cell_type": "code",
   "execution_count": 5,
   "metadata": {},
   "outputs": [],
   "source": [
    "import warnings\n",
    "from tqdm import tqdm\n",
    "warnings.filterwarnings(\"ignore\")"
   ]
  },
  {
   "cell_type": "code",
   "execution_count": 12,
   "metadata": {},
   "outputs": [],
   "source": [
    "from tqdm import tqdm\n",
    "def create_recent_7_days(df):\n",
    "    df['date'] = pd.to_datetime(df.ts * 1e9)#7 recent days\n",
    "    df['dayofyear'] = df.date.dt.dayofyear\n",
    "\n",
    "    dayofyear_max = df['dayofyear'].max()\n",
    "    dayofyear_min = dayofyear_max - 6\n",
    "\n",
    "    df = df.loc[(df.dayofyear >= dayofyear_min) & (df.dayofyear <= dayofyear_max)]\n",
    "    result = []\n",
    "    for i in range(dayofyear_min, dayofyear_max + 1):\n",
    "        result.append(create_covisit(df.loc[df.dayofyear == i]))\n",
    "\n",
    "    return result\n",
    "        \n",
    "   \n",
    "def pqt_to_dict(df, i, f):\n",
    "    df['covistation_list'] = list(zip(df.aid_y, df.wgt))\n",
    "    \n",
    "    df = df[['aid_x', 'covistation_list']].groupby('aid_x').agg({'covistation_list': list})\n",
    "    df.to_parquet(f'{f}/covisit{i}.pqt', index = True)\n",
    "\n",
    "    \n",
    "\n",
    "\n",
    "    "
   ]
  },
  {
   "cell_type": "code",
   "execution_count": 7,
   "metadata": {},
   "outputs": [],
   "source": [
    "train_df = train_df.iloc[:1000000]"
   ]
  },
  {
   "cell_type": "code",
   "execution_count": 8,
   "metadata": {},
   "outputs": [],
   "source": [
    "from tqdm import tqdm\n",
    "import numpy as np\n",
    "\n",
    "step = train_df.shape[0] // 64\n",
    "start = [i * step for i in range(64)]\n",
    "end = [i + step for i in start]\n",
    "end[-1] = train_df.shape[0] \n",
    "\n",
    "batches = [train_df.iloc[start[i]: end[i]].copy() for i in range(len(start))]\n",
    "\n",
    "\n"
   ]
  },
  {
   "cell_type": "code",
   "execution_count": 13,
   "metadata": {},
   "outputs": [
    {
     "name": "stderr",
     "output_type": "stream",
     "text": [
      " 14%|█▍        | 1/7 [00:00<00:03,  1.78it/s]"
     ]
    },
    {
     "name": "stdout",
     "output_type": "stream",
     "text": [
      "                                          covistation_list\n",
      "aid_x                                                     \n",
      "38         [(292955, 1.0), (1250198, 1.0), (1637451, 1.0)]\n",
      "114      [(409367, 1.0), (770509, 1.0), (951559, 1.0), ...\n",
      "295                                       [(1667805, 1.0)]\n",
      "473      [(620069, 1.0), (1187148, 1.0), (1205968, 1.0)...\n",
      "579      [(726027, 11.0), (121743, 1.0), (1008578, 1.0)...\n",
      "...                                                    ...\n",
      "1854939                    [(189978, 11.0), (292842, 1.0)]\n",
      "1855198  [(546864, 14.0), (1435478, 14.0), (216329, 1.0...\n",
      "1855215  [(530268, 1.0), (954262, 1.0), (1004034, 1.0),...\n",
      "1855464  [(178785, 1.0), (429488, 1.0), (493376, 1.0), ...\n",
      "1855500  [(474131, 11.0), (1786822, 11.0), (39846, 1.0)...\n",
      "\n",
      "[15875 rows x 1 columns]\n"
     ]
    },
    {
     "name": "stderr",
     "output_type": "stream",
     "text": [
      " 29%|██▊       | 2/7 [00:01<00:02,  1.82it/s]"
     ]
    },
    {
     "name": "stdout",
     "output_type": "stream",
     "text": [
      "                                          covistation_list\n",
      "aid_x                                                     \n",
      "3        [(1180285, 11.0), (42746, 1.0), (126949, 1.0),...\n",
      "4        [(192380, 1.0), (222290, 1.0), (254003, 1.0), ...\n",
      "259      [(75248, 1.0), (192259, 1.0), (242835, 1.0), (...\n",
      "605       [(1011435, 1.0), (1562832, 1.0), (1746524, 1.0)]\n",
      "819      [(225245, 1.0), (287967, 1.0), (694931, 1.0), ...\n",
      "...                                                    ...\n",
      "1855357  [(1666159, 11.0), (4498, 1.0), (109883, 1.0), ...\n",
      "1855464  [(1151818, 11.0), (1596063, 11.0), (39531, 1.0...\n",
      "1855500  [(812191, 14.0), (648570, 1.0), (738987, 1.0),...\n",
      "1855518  [(1004467, 1.0), (1023551, 1.0), (1766089, 1.0...\n",
      "1855576                   [(1410886, 1.0), (1766403, 1.0)]\n",
      "\n",
      "[15753 rows x 1 columns]\n"
     ]
    },
    {
     "name": "stderr",
     "output_type": "stream",
     "text": [
      " 43%|████▎     | 3/7 [00:01<00:02,  1.81it/s]"
     ]
    },
    {
     "name": "stdout",
     "output_type": "stream",
     "text": [
      "                                          covistation_list\n",
      "aid_x                                                     \n",
      "240                                        [(547385, 1.0)]\n",
      "605         [(198599, 1.0), (750571, 1.0), (1562832, 1.0)]\n",
      "767      [(1721312, 11.0), (124734, 1.0), (231931, 1.0)...\n",
      "860                                        [(210880, 1.0)]\n",
      "890      [(640702, 10.0), (100247, 1.0), (142233, 1.0),...\n",
      "...                                                    ...\n",
      "1855500  [(1237904, 11.0), (158358, 1.0), (184114, 1.0)...\n",
      "1855524  [(221949, 1.0), (858321, 1.0), (899434, 1.0), ...\n",
      "1855540  [(527846, 1.0), (561468, 1.0), (650288, 1.0), ...\n",
      "1855547  [(76751, 1.0), (282805, 1.0), (318610, 1.0), (...\n",
      "1855574  [(657830, 1.0), (673345, 1.0), (727301, 1.0), ...\n",
      "\n",
      "[14080 rows x 1 columns]\n"
     ]
    },
    {
     "name": "stderr",
     "output_type": "stream",
     "text": [
      " 57%|█████▋    | 4/7 [00:02<00:01,  1.89it/s]"
     ]
    },
    {
     "name": "stdout",
     "output_type": "stream",
     "text": [
      "                                          covistation_list\n",
      "aid_x                                                     \n",
      "66           [(439945, 1.0), (520660, 1.0), (598551, 1.0)]\n",
      "137      [(284262, 14.0), (150132, 1.0), (536108, 1.0),...\n",
      "240      [(87463, 1.0), (373663, 1.0), (380357, 1.0), (...\n",
      "247                                       [(1170338, 1.0)]\n",
      "299      [(209453, 1.0), (1030033, 1.0), (1170075, 1.0)...\n",
      "...                                                    ...\n",
      "1854661  [(523740, 11.0), (248290, 1.0), (258134, 1.0),...\n",
      "1854714  [(426524, 1.0), (434721, 1.0), (467925, 1.0), ...\n",
      "1854775  [(95488, 1.0), (35328, 1.0), (184976, 1.0), (7...\n",
      "1854937  [(35549, 1.0), (251995, 1.0), (628688, 1.0), (...\n",
      "1855339  [(398437, 14.0), (1801726, 14.0), (33884, 11.0...\n",
      "\n",
      "[14615 rows x 1 columns]\n"
     ]
    },
    {
     "name": "stderr",
     "output_type": "stream",
     "text": [
      " 71%|███████▏  | 5/7 [00:02<00:01,  1.97it/s]"
     ]
    },
    {
     "name": "stdout",
     "output_type": "stream",
     "text": [
      "                                          covistation_list\n",
      "aid_x                                                     \n",
      "137                                        [(195833, 1.0)]\n",
      "183      [(189237, 1.0), (385883, 1.0), (482769, 1.0), ...\n",
      "220      [(614193, 1.0), (1083921, 1.0), (1436139, 1.0)...\n",
      "262      [(1026930, 11.0), (210027, 1.0), (274577, 1.0)...\n",
      "348      [(288980, 1.0), (313004, 1.0), (635472, 1.0), ...\n",
      "...                                                    ...\n",
      "1854799  [(259626, 11.0), (444739, 11.0), (1545893, 11....\n",
      "1854872                     [(312373, 1.0), (469985, 1.0)]\n",
      "1855154  [(92806, 1.0), (575027, 1.0), (757597, 1.0), (...\n",
      "1855339      [(219470, 1.0), (728774, 1.0), (926134, 1.0)]\n",
      "1855500                                   [(1590864, 1.0)]\n",
      "\n",
      "[14000 rows x 1 columns]\n"
     ]
    },
    {
     "name": "stderr",
     "output_type": "stream",
     "text": [
      " 86%|████████▌ | 6/7 [00:03<00:00,  1.95it/s]"
     ]
    },
    {
     "name": "stdout",
     "output_type": "stream",
     "text": [
      "                                          covistation_list\n",
      "aid_x                                                     \n",
      "137      [(72319, 14.0), (319580, 14.0), (150132, 1.0),...\n",
      "195      [(165180, 1.0), (577040, 1.0), (899410, 1.0), ...\n",
      "259      [(167989, 1.0), (242995, 1.0), (280861, 1.0), ...\n",
      "984      [(1330306, 14.0), (1450279, 11.0), (35177, 1.0...\n",
      "1089     [(1353746, 11.0), (1468610, 11.0), (1648502, 1...\n",
      "...                                                    ...\n",
      "1855293  [(247477, 1.0), (626201, 1.0), (1329892, 1.0),...\n",
      "1855333  [(113524, 1.0), (524193, 1.0), (544188, 1.0), ...\n",
      "1855499  [(850476, 11.0), (418830, 1.0), (771229, 1.0),...\n",
      "1855500  [(673407, 1.0), (1116095, 1.0), (496180, 1.0),...\n",
      "1855540  [(561468, 1.0), (989119, 1.0), (1015545, 1.0),...\n",
      "\n",
      "[14828 rows x 1 columns]\n"
     ]
    },
    {
     "name": "stderr",
     "output_type": "stream",
     "text": [
      "100%|██████████| 7/7 [00:03<00:00,  2.00it/s]"
     ]
    },
    {
     "name": "stdout",
     "output_type": "stream",
     "text": [
      "                                          covistation_list\n",
      "aid_x                                                     \n",
      "348      [(111958, 1.0), (115739, 1.0), (221895, 1.0), ...\n",
      "391                       [(316716, 11.0), (542152, 11.0)]\n",
      "649      [(1846395, 14.0), (1354482, 11.0), (1272754, 4...\n",
      "984      [(1035092, 11.0), (1788570, 11.0), (35177, 1.0...\n",
      "1089     [(313238, 1.0), (1071013, 1.0), (1314325, 1.0)...\n",
      "...                                                    ...\n",
      "1855368  [(901869, 14.0), (1428004, 14.0), (301361, 13....\n",
      "1855384  [(7907, 1.0), (20405, 1.0), (44700, 1.0), (207...\n",
      "1855414  [(99061, 1.0), (333060, 1.0), (688753, 1.0), (...\n",
      "1855500        [(8752, 1.0), (36824, 1.0), (1426624, 1.0)]\n",
      "1855508  [(6062, 1.0), (138642, 1.0), (214372, 1.0), (2...\n",
      "\n",
      "[15045 rows x 1 columns]\n",
      "CPU times: user 3.72 s, sys: 2.83 s, total: 6.55 s\n",
      "Wall time: 6.82 s\n"
     ]
    },
    {
     "name": "stderr",
     "output_type": "stream",
     "text": [
      "\n"
     ]
    }
   ],
   "source": [
    "%%time\n",
    "#splitted\n",
    "\n",
    "import multiprocessing\n",
    "\n",
    "with multiprocessing.Pool(64) as pool:\n",
    "  result = pool.map(create_recent_7_days, batches, chunksize = 1)\n",
    "for i in tqdm(range(7)):  \n",
    "    pqt_to_dict(pd.concat([r[i] for r in result]), i, DIR + '/splitted')\n",
    "\n",
    "\n",
    "\n"
   ]
  },
  {
   "cell_type": "code",
   "execution_count": 15,
   "metadata": {},
   "outputs": [
    {
     "name": "stderr",
     "output_type": "stream",
     "text": [
      "100%|██████████| 7/7 [00:00<00:00, 34.25it/s]"
     ]
    },
    {
     "name": "stdout",
     "output_type": "stream",
     "text": [
      "CPU times: user 392 ms, sys: 1.26 s, total: 1.65 s\n",
      "Wall time: 1.86 s\n"
     ]
    },
    {
     "name": "stderr",
     "output_type": "stream",
     "text": [
      "\n"
     ]
    }
   ],
   "source": [
    "%%time\n",
    "#lb\n",
    "\n",
    "import multiprocessing\n",
    "\n",
    "with multiprocessing.Pool(64) as pool:\n",
    "  result = pool.map(create_recent_7_days, batches, chunksize = 1)\n",
    "for i in tqdm(range(7)):  \n",
    "    pqt_to_dict(pd.concat([r[i] for r in result]), i, DIR + '/lb')\n",
    "\n",
    "\n",
    "\n"
   ]
  },
  {
   "cell_type": "code",
   "execution_count": null,
   "metadata": {},
   "outputs": [],
   "source": []
  }
 ],
 "metadata": {
  "kernelspec": {
   "display_name": "Python 3",
   "language": "python",
   "name": "python3"
  },
  "language_info": {
   "codemirror_mode": {
    "name": "ipython",
    "version": 3
   },
   "file_extension": ".py",
   "mimetype": "text/x-python",
   "name": "python",
   "nbconvert_exporter": "python",
   "pygments_lexer": "ipython3",
   "version": "3.8.10"
  },
  "orig_nbformat": 4,
  "vscode": {
   "interpreter": {
    "hash": "916dbcbb3f70747c44a77c7bcd40155683ae19c65e1c03b4aa3499c5328201f1"
   }
  }
 },
 "nbformat": 4,
 "nbformat_minor": 2
}
